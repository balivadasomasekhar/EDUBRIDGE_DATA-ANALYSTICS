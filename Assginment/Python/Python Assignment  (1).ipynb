{
 "cells": [
  {
   "cell_type": "code",
   "execution_count": 3,
   "id": "1d2b7472",
   "metadata": {},
   "outputs": [],
   "source": [
    "import numpy as np \n",
    "import pandas as pd\n"
   ]
  },
  {
   "cell_type": "markdown",
   "id": "fef81cd3",
   "metadata": {},
   "source": [
    "Two- dimensional array"
   ]
  },
  {
   "cell_type": "code",
   "execution_count": 4,
   "id": "5f8413b9",
   "metadata": {},
   "outputs": [
    {
     "data": {
      "text/plain": [
       "array([[23, 34,  5],\n",
       "       [23,  3,  4],\n",
       "       [ 3,  4,  1]])"
      ]
     },
     "execution_count": 4,
     "metadata": {},
     "output_type": "execute_result"
    }
   ],
   "source": [
    "A=np.array([[23,34,5],[23,3,4],[3,4,1]])\n",
    "A"
   ]
  },
  {
   "cell_type": "code",
   "execution_count": 13,
   "id": "ab610cb0",
   "metadata": {},
   "outputs": [
    {
     "name": "stdout",
     "output_type": "stream",
     "text": [
      "the sum of 2D= 100\n"
     ]
    }
   ],
   "source": [
    "C=print(\"the sum of 2D=\",np.sum(A))"
   ]
  },
  {
   "cell_type": "markdown",
   "id": "d2549694",
   "metadata": {},
   "source": [
    "minimum value"
   ]
  },
  {
   "cell_type": "code",
   "execution_count": 14,
   "id": "a4f7f3bb",
   "metadata": {},
   "outputs": [
    {
     "data": {
      "text/plain": [
       "1"
      ]
     },
     "execution_count": 14,
     "metadata": {},
     "output_type": "execute_result"
    }
   ],
   "source": [
    "np.min(A)"
   ]
  },
  {
   "cell_type": "markdown",
   "id": "1ac8aefa",
   "metadata": {},
   "source": [
    "maximum value "
   ]
  },
  {
   "cell_type": "code",
   "execution_count": 15,
   "id": "d8e80f19",
   "metadata": {},
   "outputs": [
    {
     "data": {
      "text/plain": [
       "34"
      ]
     },
     "execution_count": 15,
     "metadata": {},
     "output_type": "execute_result"
    }
   ],
   "source": [
    "np.max(A)"
   ]
  },
  {
   "cell_type": "markdown",
   "id": "dd74ec2d",
   "metadata": {},
   "source": [
    "50 percentile"
   ]
  },
  {
   "cell_type": "code",
   "execution_count": 17,
   "id": "2d6c2b3e",
   "metadata": {},
   "outputs": [
    {
     "data": {
      "text/plain": [
       "4.0"
      ]
     },
     "execution_count": 17,
     "metadata": {},
     "output_type": "execute_result"
    }
   ],
   "source": [
    "np.percentile(A,50)"
   ]
  },
  {
   "cell_type": "code",
   "execution_count": 19,
   "id": "cdb08837",
   "metadata": {},
   "outputs": [
    {
     "data": {
      "text/plain": [
       "array([0, 1, 2, 3, 4, 5, 6, 7, 8, 9])"
      ]
     },
     "execution_count": 19,
     "metadata": {},
     "output_type": "execute_result"
    }
   ],
   "source": [
    "arr=np.arange(10)\n",
    "arr"
   ]
  },
  {
   "cell_type": "markdown",
   "id": "85a30269",
   "metadata": {},
   "source": [
    "Access all the elements of array except first one"
   ]
  },
  {
   "cell_type": "code",
   "execution_count": 20,
   "id": "154a446a",
   "metadata": {},
   "outputs": [
    {
     "data": {
      "text/plain": [
       "array([1, 2, 3, 4, 5, 6, 7, 8, 9])"
      ]
     },
     "execution_count": 20,
     "metadata": {},
     "output_type": "execute_result"
    }
   ],
   "source": [
    "arr[1:]"
   ]
  },
  {
   "cell_type": "markdown",
   "id": "77cf4a4f",
   "metadata": {},
   "source": [
    "Sum of addition "
   ]
  },
  {
   "cell_type": "code",
   "execution_count": 21,
   "id": "722d3157",
   "metadata": {},
   "outputs": [
    {
     "data": {
      "text/plain": [
       "array([[23, 34,  5],\n",
       "       [23,  3,  4],\n",
       "       [ 3,  4,  1]])"
      ]
     },
     "execution_count": 21,
     "metadata": {},
     "output_type": "execute_result"
    }
   ],
   "source": [
    "A=np.array([[23,34,5],[23,3,4],[3,4,1]])\n",
    "A"
   ]
  },
  {
   "cell_type": "code",
   "execution_count": 22,
   "id": "99590245",
   "metadata": {},
   "outputs": [
    {
     "data": {
      "text/plain": [
       "array([[32,  4, 15],\n",
       "       [ 3, 13, 40],\n",
       "       [13, 34, 21]])"
      ]
     },
     "execution_count": 22,
     "metadata": {},
     "output_type": "execute_result"
    }
   ],
   "source": [
    "B=np.array([[32,4,15],[3,13,40],[13,34,21]])\n",
    "B"
   ]
  },
  {
   "cell_type": "code",
   "execution_count": 23,
   "id": "2767800a",
   "metadata": {},
   "outputs": [
    {
     "data": {
      "text/plain": [
       "array([[55, 38, 20],\n",
       "       [26, 16, 44],\n",
       "       [16, 38, 22]])"
      ]
     },
     "execution_count": 23,
     "metadata": {},
     "output_type": "execute_result"
    }
   ],
   "source": [
    "A+B"
   ]
  },
  {
   "cell_type": "markdown",
   "id": "6e6f5e44",
   "metadata": {},
   "source": [
    "Returns all elements "
   ]
  },
  {
   "cell_type": "code",
   "execution_count": 24,
   "id": "7b63f39e",
   "metadata": {},
   "outputs": [
    {
     "data": {
      "text/plain": [
       "0     1\n",
       "1     2\n",
       "2     3\n",
       "3     4\n",
       "4     1\n",
       "5     3\n",
       "6     3\n",
       "7     4\n",
       "8     1\n",
       "9     3\n",
       "10    4\n",
       "11    1\n",
       "12    3\n",
       "13    4\n",
       "dtype: int64"
      ]
     },
     "execution_count": 24,
     "metadata": {},
     "output_type": "execute_result"
    }
   ],
   "source": [
    "a=pd.Series([1,2,3,4,1,3,3,4,1,3,4,1,3,4])\n",
    "a"
   ]
  },
  {
   "cell_type": "markdown",
   "id": "dade4840",
   "metadata": {},
   "source": [
    "Print first three elementof the series "
   ]
  },
  {
   "cell_type": "code",
   "execution_count": 26,
   "id": "2d1aae1f",
   "metadata": {},
   "outputs": [
    {
     "name": "stdout",
     "output_type": "stream",
     "text": [
      "0    1\n",
      "1    2\n",
      "2    3\n",
      "dtype: int64\n"
     ]
    }
   ],
   "source": [
    "print(a[:3])"
   ]
  },
  {
   "cell_type": "markdown",
   "id": "22fabd09",
   "metadata": {},
   "source": [
    "Print last element"
   ]
  },
  {
   "cell_type": "code",
   "execution_count": 28,
   "id": "030c836a",
   "metadata": {},
   "outputs": [
    {
     "name": "stdout",
     "output_type": "stream",
     "text": [
      "13    4\n",
      "dtype: int64\n"
     ]
    }
   ],
   "source": [
    "print(a[-1:])"
   ]
  },
  {
   "cell_type": "markdown",
   "id": "9b5963fc",
   "metadata": {},
   "source": [
    "Return last elements except last two elements "
   ]
  },
  {
   "cell_type": "code",
   "execution_count": 30,
   "id": "9de85123",
   "metadata": {},
   "outputs": [
    {
     "name": "stdout",
     "output_type": "stream",
     "text": [
      "0     1\n",
      "1     2\n",
      "2     3\n",
      "3     4\n",
      "4     1\n",
      "5     3\n",
      "6     3\n",
      "7     4\n",
      "8     1\n",
      "9     3\n",
      "10    4\n",
      "11    1\n",
      "dtype: int64\n"
     ]
    }
   ],
   "source": [
    "print(a[:-2])"
   ]
  },
  {
   "cell_type": "markdown",
   "id": "3198ead1",
   "metadata": {},
   "source": [
    "Print elements except last element "
   ]
  },
  {
   "cell_type": "code",
   "execution_count": 31,
   "id": "cf9027e4",
   "metadata": {},
   "outputs": [
    {
     "name": "stdout",
     "output_type": "stream",
     "text": [
      "0     1\n",
      "1     2\n",
      "2     3\n",
      "3     4\n",
      "4     1\n",
      "5     3\n",
      "6     3\n",
      "7     4\n",
      "8     1\n",
      "9     3\n",
      "10    4\n",
      "11    1\n",
      "12    3\n",
      "dtype: int64\n"
     ]
    }
   ],
   "source": [
    "print(a[:-1])"
   ]
  },
  {
   "cell_type": "markdown",
   "id": "8d041169",
   "metadata": {},
   "source": [
    "# returns last two elements"
   ]
  },
  {
   "cell_type": "code",
   "execution_count": 34,
   "id": "78be0d20",
   "metadata": {},
   "outputs": [
    {
     "name": "stdout",
     "output_type": "stream",
     "text": [
      "12    3\n",
      "13    4\n",
      "dtype: int64\n"
     ]
    }
   ],
   "source": [
    "print(a[-2:])"
   ]
  },
  {
   "cell_type": "code",
   "execution_count": null,
   "id": "2c3b5b23",
   "metadata": {},
   "outputs": [],
   "source": []
  }
 ],
 "metadata": {
  "kernelspec": {
   "display_name": "Python 3 (ipykernel)",
   "language": "python",
   "name": "python3"
  },
  "language_info": {
   "codemirror_mode": {
    "name": "ipython",
    "version": 3
   },
   "file_extension": ".py",
   "mimetype": "text/x-python",
   "name": "python",
   "nbconvert_exporter": "python",
   "pygments_lexer": "ipython3",
   "version": "3.9.7"
  }
 },
 "nbformat": 4,
 "nbformat_minor": 5
}
